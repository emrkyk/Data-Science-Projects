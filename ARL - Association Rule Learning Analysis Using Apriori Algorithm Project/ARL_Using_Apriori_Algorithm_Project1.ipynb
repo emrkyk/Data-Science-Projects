{
  "nbformat": 4,
  "nbformat_minor": 0,
  "metadata": {
    "colab": {
      "name": "ARL Using Apriori Algorithm Project1.ipynb",
      "provenance": [],
      "collapsed_sections": []
    },
    "kernelspec": {
      "name": "python3",
      "display_name": "Python 3"
    },
    "language_info": {
      "name": "python"
    }
  },
  "cells": [
    {
      "cell_type": "markdown",
      "metadata": {
        "id": "cH1NrqDaqogE"
      },
      "source": [
        "# **(ARL) ASSOCIATION RULE LEARNING PROJECT USING APRIORI ALGORITHM**\n",
        "\n",
        "\n",
        "\n"
      ]
    },
    {
      "cell_type": "markdown",
      "metadata": {
        "id": "ItC41Rij_8fk"
      },
      "source": [
        "*The Apriori algorithm iteratively creates product combinations according to a specified \"support\" value and finally extracts the association rules by filtering the product combinations according to this support value. In order to understand how Apriori algorithm works, please check the excel file in the folder that I calculated manually*"
      ]
    },
    {
      "cell_type": "markdown",
      "metadata": {
        "id": "4G5vuM-fydLg"
      },
      "source": [
        "DATASET:   https://archive.ics.uci.edu/ml/datasets/Online+Retail+II \n",
        "\n",
        "*  Online Retail II dataset includes the sales of a UK-based online retail store between the Year 2009-2011."
      ]
    },
    {
      "cell_type": "markdown",
      "metadata": {
        "id": "QWXao2QzyA8d"
      },
      "source": [
        "***The main goal of the project is to apply Association Rule Learning analysis(ARL) using the Apriori algorithm for \"France\" for the years betweeen 2010-2011 to the online retail_II data set. ***\n",
        "\n",
        "\n",
        "\n",
        "*   First, I needed to deduplicate the retail data set. I've created the invoice product (basked product) matrix over the transaction data as shown below."
      ]
    },
    {
      "cell_type": "code",
      "metadata": {
        "id": "U_pp1BySqdRX"
      },
      "source": [
        "# Invoice Product(Basket product) example\n",
        "# Every row should represent a unique invoice, and this will be treated as basket product as shown below\n",
        "\n",
        "# Description   NINE DRAWER OFFICE TIDY   SET 2 TEA TOWELS I LOVE LONDON    SPACEBOY BABY GIFT SET\n",
        "# Invoice\n",
        "# 536370                              0                                 1                       0\n",
        "# 536852                              1                                 0                       1\n",
        "# 536974                              0                                 0                       0\n",
        "# 537065                              1                                 0                       0\n",
        "# 537463                              0                                 0                       1\n",
        "\n",
        "# this structure above has been the core point- structure - fundamentals of complex recommendation systems."
      ],
      "execution_count": null,
      "outputs": []
    },
    {
      "cell_type": "code",
      "metadata": {
        "id": "BLLwHQWbqst1"
      },
      "source": [
        "# 1. Data Preprocessing\n",
        "#   1. Missing Values, Outliers etc.\n",
        "#   2. Creating the Invoice product (basket product) matrix\n",
        "# 2. Establishing Association Rules"
      ],
      "execution_count": 4,
      "outputs": []
    },
    {
      "cell_type": "code",
      "metadata": {
        "colab": {
          "base_uri": "https://localhost:8080/",
          "height": 195
        },
        "id": "DsbOQ1sD0KDF",
        "outputId": "01653c13-21d6-47f6-da99-948028b5e559"
      },
      "source": [
        "import pandas as pd\n",
        "\n",
        "pd.set_option('display.max_columns', None)\n",
        "pd.set_option('display.expand_frame_repr', False)\n",
        "from mlxtend.frequent_patterns import apriori, association_rules\n",
        "\n",
        "df_ = pd.read_excel(\"/content/online_retail_II.xlsx\", sheet_name=\"Year 2010-2011\")\n",
        "df = df_.copy()\n",
        "df.head()"
      ],
      "execution_count": 33,
      "outputs": [
        {
          "output_type": "execute_result",
          "data": {
            "text/html": [
              "<div>\n",
              "<style scoped>\n",
              "    .dataframe tbody tr th:only-of-type {\n",
              "        vertical-align: middle;\n",
              "    }\n",
              "\n",
              "    .dataframe tbody tr th {\n",
              "        vertical-align: top;\n",
              "    }\n",
              "\n",
              "    .dataframe thead th {\n",
              "        text-align: right;\n",
              "    }\n",
              "</style>\n",
              "<table border=\"1\" class=\"dataframe\">\n",
              "  <thead>\n",
              "    <tr style=\"text-align: right;\">\n",
              "      <th></th>\n",
              "      <th>Invoice</th>\n",
              "      <th>StockCode</th>\n",
              "      <th>Description</th>\n",
              "      <th>Quantity</th>\n",
              "      <th>InvoiceDate</th>\n",
              "      <th>Price</th>\n",
              "      <th>Customer ID</th>\n",
              "      <th>Country</th>\n",
              "    </tr>\n",
              "  </thead>\n",
              "  <tbody>\n",
              "    <tr>\n",
              "      <th>0</th>\n",
              "      <td>536365</td>\n",
              "      <td>85123A</td>\n",
              "      <td>WHITE HANGING HEART T-LIGHT HOLDER</td>\n",
              "      <td>6</td>\n",
              "      <td>2010-12-01 08:26:00</td>\n",
              "      <td>2.55</td>\n",
              "      <td>17850.0</td>\n",
              "      <td>United Kingdom</td>\n",
              "    </tr>\n",
              "    <tr>\n",
              "      <th>1</th>\n",
              "      <td>536365</td>\n",
              "      <td>71053</td>\n",
              "      <td>WHITE METAL LANTERN</td>\n",
              "      <td>6</td>\n",
              "      <td>2010-12-01 08:26:00</td>\n",
              "      <td>3.39</td>\n",
              "      <td>17850.0</td>\n",
              "      <td>United Kingdom</td>\n",
              "    </tr>\n",
              "    <tr>\n",
              "      <th>2</th>\n",
              "      <td>536365</td>\n",
              "      <td>84406B</td>\n",
              "      <td>CREAM CUPID HEARTS COAT HANGER</td>\n",
              "      <td>8</td>\n",
              "      <td>2010-12-01 08:26:00</td>\n",
              "      <td>2.75</td>\n",
              "      <td>17850.0</td>\n",
              "      <td>United Kingdom</td>\n",
              "    </tr>\n",
              "    <tr>\n",
              "      <th>3</th>\n",
              "      <td>536365</td>\n",
              "      <td>84029G</td>\n",
              "      <td>KNITTED UNION FLAG HOT WATER BOTTLE</td>\n",
              "      <td>6</td>\n",
              "      <td>2010-12-01 08:26:00</td>\n",
              "      <td>3.39</td>\n",
              "      <td>17850.0</td>\n",
              "      <td>United Kingdom</td>\n",
              "    </tr>\n",
              "    <tr>\n",
              "      <th>4</th>\n",
              "      <td>536365</td>\n",
              "      <td>84029E</td>\n",
              "      <td>RED WOOLLY HOTTIE WHITE HEART.</td>\n",
              "      <td>6</td>\n",
              "      <td>2010-12-01 08:26:00</td>\n",
              "      <td>3.39</td>\n",
              "      <td>17850.0</td>\n",
              "      <td>United Kingdom</td>\n",
              "    </tr>\n",
              "  </tbody>\n",
              "</table>\n",
              "</div>"
            ],
            "text/plain": [
              "  Invoice StockCode                          Description  Quantity         InvoiceDate  Price  Customer ID         Country\n",
              "0  536365    85123A   WHITE HANGING HEART T-LIGHT HOLDER         6 2010-12-01 08:26:00   2.55      17850.0  United Kingdom\n",
              "1  536365     71053                  WHITE METAL LANTERN         6 2010-12-01 08:26:00   3.39      17850.0  United Kingdom\n",
              "2  536365    84406B       CREAM CUPID HEARTS COAT HANGER         8 2010-12-01 08:26:00   2.75      17850.0  United Kingdom\n",
              "3  536365    84029G  KNITTED UNION FLAG HOT WATER BOTTLE         6 2010-12-01 08:26:00   3.39      17850.0  United Kingdom\n",
              "4  536365    84029E       RED WOOLLY HOTTIE WHITE HEART.         6 2010-12-01 08:26:00   3.39      17850.0  United Kingdom"
            ]
          },
          "metadata": {
            "tags": []
          },
          "execution_count": 33
        }
      ]
    },
    {
      "cell_type": "code",
      "metadata": {
        "colab": {
          "base_uri": "https://localhost:8080/"
        },
        "id": "ES2_XPtz0c9D",
        "outputId": "080ee6f1-bac5-4fcd-941d-ab8d9646ad56"
      },
      "source": [
        "df.info()"
      ],
      "execution_count": 34,
      "outputs": [
        {
          "output_type": "stream",
          "text": [
            "<class 'pandas.core.frame.DataFrame'>\n",
            "RangeIndex: 541910 entries, 0 to 541909\n",
            "Data columns (total 8 columns):\n",
            " #   Column       Non-Null Count   Dtype         \n",
            "---  ------       --------------   -----         \n",
            " 0   Invoice      541910 non-null  object        \n",
            " 1   StockCode    541910 non-null  object        \n",
            " 2   Description  540456 non-null  object        \n",
            " 3   Quantity     541910 non-null  int64         \n",
            " 4   InvoiceDate  541910 non-null  datetime64[ns]\n",
            " 5   Price        541910 non-null  float64       \n",
            " 6   Customer ID  406830 non-null  float64       \n",
            " 7   Country      541910 non-null  object        \n",
            "dtypes: datetime64[ns](1), float64(2), int64(1), object(4)\n",
            "memory usage: 33.1+ MB\n"
          ],
          "name": "stdout"
        }
      ]
    },
    {
      "cell_type": "markdown",
      "metadata": {
        "id": "O0LdPAOW2L-u"
      },
      "source": [
        "# Data Preprocessing"
      ]
    },
    {
      "cell_type": "code",
      "metadata": {
        "id": "etpgJCwi0nl0"
      },
      "source": [
        "def check_df(dataframe):\n",
        "    print(\"##################### Shape #####################\")\n",
        "    print(dataframe.shape)\n",
        "    print(dataframe.dtypes)\n",
        "    print(\"##################### Head #####################\")\n",
        "    print(dataframe.head(3))\n",
        "    print(\"##################### Tail #####################\")\n",
        "    print(dataframe.tail(3))\n",
        "    print(\"##################### NA #####################\")\n",
        "    print(dataframe.isnull().sum())\n",
        "    print(\"##################### Quantiles #####################\")\n",
        "    print(dataframe.quantile([0, 0.05, 0.50, 0.95, 0.99, 1]).T)\n",
        "\n",
        "\n",
        " # CRM specialized Function (Please see in CRM projects)\n",
        "def crm_data_prep(dataframe):\n",
        "    dataframe.dropna(axis=0, inplace=True)\n",
        "    dataframe = dataframe[~dataframe[\"Invoice\"].str.contains(\"C\", na=False)]\n",
        "    dataframe = dataframe[dataframe[\"Quantity\"] > 0]\n",
        "    replace_with_thresholds(dataframe, \"Quantity\")\n",
        "    replace_with_thresholds(dataframe, \"Price\")\n",
        "    dataframe[\"TotalPrice\"] = dataframe[\"Quantity\"] * dataframe[\"Price\"]\n",
        "    return dataframe\n",
        "\n",
        "\n",
        "def outlier_thresholds(dataframe, variable):\n",
        "    quartile1 = dataframe[variable].quantile(0.01)\n",
        "    quartile3 = dataframe[variable].quantile(0.99)\n",
        "    interquantile_range = quartile3 - quartile1\n",
        "    up_limit = quartile3 + 1.5 * interquantile_range\n",
        "    low_limit = quartile1 - 1.5 * interquantile_range\n",
        "    return low_limit, up_limit\n",
        "\n",
        "\n",
        "def replace_with_thresholds(dataframe, variable):\n",
        "    low_limit, up_limit = outlier_thresholds(dataframe, variable)\n",
        "    # dataframe.loc[(dataframe[variable] < low_limit), variable] = low_limit\n",
        "    dataframe.loc[(dataframe[variable] > up_limit), variable] = up_limit"
      ],
      "execution_count": 35,
      "outputs": []
    },
    {
      "cell_type": "code",
      "metadata": {
        "colab": {
          "base_uri": "https://localhost:8080/"
        },
        "id": "McrfAW-b0npW",
        "outputId": "12840be1-4dfd-4581-cdd7-160c9a9d7500"
      },
      "source": [
        "check_df(df)"
      ],
      "execution_count": 36,
      "outputs": [
        {
          "output_type": "stream",
          "text": [
            "##################### Shape #####################\n",
            "(541910, 8)\n",
            "Invoice                object\n",
            "StockCode              object\n",
            "Description            object\n",
            "Quantity                int64\n",
            "InvoiceDate    datetime64[ns]\n",
            "Price                 float64\n",
            "Customer ID           float64\n",
            "Country                object\n",
            "dtype: object\n",
            "##################### Head #####################\n",
            "  Invoice StockCode                         Description  Quantity         InvoiceDate  Price  Customer ID         Country\n",
            "0  536365    85123A  WHITE HANGING HEART T-LIGHT HOLDER         6 2010-12-01 08:26:00   2.55      17850.0  United Kingdom\n",
            "1  536365     71053                 WHITE METAL LANTERN         6 2010-12-01 08:26:00   3.39      17850.0  United Kingdom\n",
            "2  536365    84406B      CREAM CUPID HEARTS COAT HANGER         8 2010-12-01 08:26:00   2.75      17850.0  United Kingdom\n",
            "##################### Tail #####################\n",
            "       Invoice StockCode                      Description  Quantity         InvoiceDate  Price  Customer ID Country\n",
            "541907  581587     23255  CHILDRENS CUTLERY CIRCUS PARADE         4 2011-12-09 12:50:00   4.15      12680.0  France\n",
            "541908  581587     22138    BAKING SET 9 PIECE RETROSPOT          3 2011-12-09 12:50:00   4.95      12680.0  France\n",
            "541909  581587      POST                          POSTAGE         1 2011-12-09 12:50:00  18.00      12680.0  France\n",
            "##################### NA #####################\n",
            "Invoice             0\n",
            "StockCode           0\n",
            "Description      1454\n",
            "Quantity            0\n",
            "InvoiceDate         0\n",
            "Price               0\n",
            "Customer ID    135080\n",
            "Country             0\n",
            "dtype: int64\n",
            "##################### Quantiles #####################\n",
            "                 0.00      0.05      0.50      0.95     0.99     1.00\n",
            "Quantity    -80995.00      1.00      3.00     29.00    100.0  80995.0\n",
            "Price       -11062.06      0.42      2.08      9.95     18.0  38970.0\n",
            "Customer ID  12346.00  12626.00  15152.00  17905.00  18212.0  18287.0\n"
          ],
          "name": "stdout"
        }
      ]
    },
    {
      "cell_type": "code",
      "metadata": {
        "colab": {
          "base_uri": "https://localhost:8080/"
        },
        "id": "pfYI-f5M0nsa",
        "outputId": "216705a8-8536-4056-d774-4af08b4502e3"
      },
      "source": [
        "df = crm_data_prep(df)\n",
        "check_df(df)"
      ],
      "execution_count": 37,
      "outputs": [
        {
          "output_type": "stream",
          "text": [
            "##################### Shape #####################\n",
            "(397925, 9)\n",
            "Invoice                object\n",
            "StockCode              object\n",
            "Description            object\n",
            "Quantity              float64\n",
            "InvoiceDate    datetime64[ns]\n",
            "Price                 float64\n",
            "Customer ID           float64\n",
            "Country                object\n",
            "TotalPrice            float64\n",
            "dtype: object\n",
            "##################### Head #####################\n",
            "  Invoice StockCode                         Description  Quantity         InvoiceDate  Price  Customer ID         Country  TotalPrice\n",
            "0  536365    85123A  WHITE HANGING HEART T-LIGHT HOLDER       6.0 2010-12-01 08:26:00   2.55      17850.0  United Kingdom       15.30\n",
            "1  536365     71053                 WHITE METAL LANTERN       6.0 2010-12-01 08:26:00   3.39      17850.0  United Kingdom       20.34\n",
            "2  536365    84406B      CREAM CUPID HEARTS COAT HANGER       8.0 2010-12-01 08:26:00   2.75      17850.0  United Kingdom       22.00\n",
            "##################### Tail #####################\n",
            "       Invoice StockCode                      Description  Quantity         InvoiceDate  Price  Customer ID Country  TotalPrice\n",
            "541907  581587     23255  CHILDRENS CUTLERY CIRCUS PARADE       4.0 2011-12-09 12:50:00   4.15      12680.0  France       16.60\n",
            "541908  581587     22138    BAKING SET 9 PIECE RETROSPOT        3.0 2011-12-09 12:50:00   4.95      12680.0  France       14.85\n",
            "541909  581587      POST                          POSTAGE       1.0 2011-12-09 12:50:00  18.00      12680.0  France       18.00\n",
            "##################### NA #####################\n",
            "Invoice        0\n",
            "StockCode      0\n",
            "Description    0\n",
            "Quantity       0\n",
            "InvoiceDate    0\n",
            "Price          0\n",
            "Customer ID    0\n",
            "Country        0\n",
            "TotalPrice     0\n",
            "dtype: int64\n",
            "##################### Quantiles #####################\n",
            "                0.00      0.05      0.50     0.95      0.99       1.00\n",
            "Quantity         1.0      1.00      6.00     36.0    120.00    298.500\n",
            "Price            0.0      0.42      1.95      8.5     14.95     37.060\n",
            "Customer ID  12346.0  12627.00  15159.00  17912.0  18211.00  18287.000\n",
            "TotalPrice       0.0      1.25     11.80     67.5    183.60   3268.575\n"
          ],
          "name": "stdout"
        }
      ]
    },
    {
      "cell_type": "code",
      "metadata": {
        "colab": {
          "base_uri": "https://localhost:8080/"
        },
        "id": "Tb3U1HoZ0nuk",
        "outputId": "68f16b56-535d-4a4e-9aaf-0e034174375d"
      },
      "source": [
        "# For France\n",
        "df_fr = df[df[\"Country\"] == \"France\"]\n",
        "check_df(df_fr)"
      ],
      "execution_count": 38,
      "outputs": [
        {
          "output_type": "stream",
          "text": [
            "##################### Shape #####################\n",
            "(8343, 9)\n",
            "Invoice                object\n",
            "StockCode              object\n",
            "Description            object\n",
            "Quantity              float64\n",
            "InvoiceDate    datetime64[ns]\n",
            "Price                 float64\n",
            "Customer ID           float64\n",
            "Country                object\n",
            "TotalPrice            float64\n",
            "dtype: object\n",
            "##################### Head #####################\n",
            "   Invoice StockCode                 Description  Quantity         InvoiceDate  Price  Customer ID Country  TotalPrice\n",
            "26  536370     22728   ALARM CLOCK BAKELIKE PINK      24.0 2010-12-01 08:45:00   3.75      12583.0  France        90.0\n",
            "27  536370     22727   ALARM CLOCK BAKELIKE RED       24.0 2010-12-01 08:45:00   3.75      12583.0  France        90.0\n",
            "28  536370     22726  ALARM CLOCK BAKELIKE GREEN      12.0 2010-12-01 08:45:00   3.75      12583.0  France        45.0\n",
            "##################### Tail #####################\n",
            "       Invoice StockCode                      Description  Quantity         InvoiceDate  Price  Customer ID Country  TotalPrice\n",
            "541907  581587     23255  CHILDRENS CUTLERY CIRCUS PARADE       4.0 2011-12-09 12:50:00   4.15      12680.0  France       16.60\n",
            "541908  581587     22138    BAKING SET 9 PIECE RETROSPOT        3.0 2011-12-09 12:50:00   4.95      12680.0  France       14.85\n",
            "541909  581587      POST                          POSTAGE       1.0 2011-12-09 12:50:00  18.00      12680.0  France       18.00\n",
            "##################### NA #####################\n",
            "Invoice        0\n",
            "StockCode      0\n",
            "Description    0\n",
            "Quantity       0\n",
            "InvoiceDate    0\n",
            "Price          0\n",
            "Customer ID    0\n",
            "Country        0\n",
            "TotalPrice     0\n",
            "dtype: int64\n",
            "##################### Quantiles #####################\n",
            "                0.00      0.05      0.50       0.95     0.99       1.00\n",
            "Quantity         1.0      2.00     10.00     36.000     96.0    298.500\n",
            "Price            0.0      0.42      1.79     12.750     18.0     37.060\n",
            "Customer ID  12413.0  12490.00  12678.00  12731.000  14277.0  14277.000\n",
            "TotalPrice       0.0      5.04     16.60     62.394    139.2    534.315\n"
          ],
          "name": "stdout"
        }
      ]
    },
    {
      "cell_type": "code",
      "metadata": {
        "colab": {
          "base_uri": "https://localhost:8080/"
        },
        "id": "u8BNbonf0nw5",
        "outputId": "97146ce0-c87c-4e4f-97dd-b49ecec95689"
      },
      "source": [
        "# The number of unique product\n",
        "df_fr[\"StockCode\"].nunique()  # 1522"
      ],
      "execution_count": 39,
      "outputs": [
        {
          "output_type": "execute_result",
          "data": {
            "text/plain": [
              "1522"
            ]
          },
          "metadata": {
            "tags": []
          },
          "execution_count": 39
        }
      ]
    },
    {
      "cell_type": "code",
      "metadata": {
        "colab": {
          "base_uri": "https://localhost:8080/"
        },
        "id": "niQFdeQD0nzU",
        "outputId": "fd1af01c-651a-447d-b699-fc561bbc79c7"
      },
      "source": [
        "# The number of unique customer\n",
        "df_fr[\"Customer ID\"].nunique()  # 87"
      ],
      "execution_count": 40,
      "outputs": [
        {
          "output_type": "execute_result",
          "data": {
            "text/plain": [
              "87"
            ]
          },
          "metadata": {
            "tags": []
          },
          "execution_count": 40
        }
      ]
    },
    {
      "cell_type": "code",
      "metadata": {
        "colab": {
          "base_uri": "https://localhost:8080/"
        },
        "id": "YMtT8uEK0n2M",
        "outputId": "0fdd2aeb-b191-4712-95e6-6c61576af927"
      },
      "source": [
        "# How many unique invoice- transaction?\n",
        "df_fr[\"Invoice\"].nunique()  # 389\n"
      ],
      "execution_count": 41,
      "outputs": [
        {
          "output_type": "execute_result",
          "data": {
            "text/plain": [
              "389"
            ]
          },
          "metadata": {
            "tags": []
          },
          "execution_count": 41
        }
      ]
    },
    {
      "cell_type": "code",
      "metadata": {
        "colab": {
          "base_uri": "https://localhost:8080/",
          "height": 225
        },
        "id": "vIeOjYO70n3v",
        "outputId": "4f8d81bf-642b-4d0f-b441-e550dc6a9cd0"
      },
      "source": [
        "# Number of transactions(invoice) for each customer, number of products purchased and average amount paid\n",
        "df_fr.groupby(\"Customer ID\").agg({\"Invoice\": \"nunique\",\n",
        "                                  \"StockCode\": \"count\",\n",
        "                                  \"TotalPrice\": \"mean\"}).sort_values(\"Invoice\", ascending=False).head()"
      ],
      "execution_count": 42,
      "outputs": [
        {
          "output_type": "execute_result",
          "data": {
            "text/html": [
              "<div>\n",
              "<style scoped>\n",
              "    .dataframe tbody tr th:only-of-type {\n",
              "        vertical-align: middle;\n",
              "    }\n",
              "\n",
              "    .dataframe tbody tr th {\n",
              "        vertical-align: top;\n",
              "    }\n",
              "\n",
              "    .dataframe thead th {\n",
              "        text-align: right;\n",
              "    }\n",
              "</style>\n",
              "<table border=\"1\" class=\"dataframe\">\n",
              "  <thead>\n",
              "    <tr style=\"text-align: right;\">\n",
              "      <th></th>\n",
              "      <th>Invoice</th>\n",
              "      <th>StockCode</th>\n",
              "      <th>TotalPrice</th>\n",
              "    </tr>\n",
              "    <tr>\n",
              "      <th>Customer ID</th>\n",
              "      <th></th>\n",
              "      <th></th>\n",
              "      <th></th>\n",
              "    </tr>\n",
              "  </thead>\n",
              "  <tbody>\n",
              "    <tr>\n",
              "      <th>12682.0</th>\n",
              "      <td>31</td>\n",
              "      <td>525</td>\n",
              "      <td>23.406133</td>\n",
              "    </tr>\n",
              "    <tr>\n",
              "      <th>12681.0</th>\n",
              "      <td>22</td>\n",
              "      <td>638</td>\n",
              "      <td>21.610564</td>\n",
              "    </tr>\n",
              "    <tr>\n",
              "      <th>12437.0</th>\n",
              "      <td>18</td>\n",
              "      <td>200</td>\n",
              "      <td>24.757050</td>\n",
              "    </tr>\n",
              "    <tr>\n",
              "      <th>12683.0</th>\n",
              "      <td>15</td>\n",
              "      <td>344</td>\n",
              "      <td>24.641192</td>\n",
              "    </tr>\n",
              "    <tr>\n",
              "      <th>12583.0</th>\n",
              "      <td>15</td>\n",
              "      <td>247</td>\n",
              "      <td>29.431964</td>\n",
              "    </tr>\n",
              "  </tbody>\n",
              "</table>\n",
              "</div>"
            ],
            "text/plain": [
              "             Invoice  StockCode  TotalPrice\n",
              "Customer ID                                \n",
              "12682.0           31        525   23.406133\n",
              "12681.0           22        638   21.610564\n",
              "12437.0           18        200   24.757050\n",
              "12683.0           15        344   24.641192\n",
              "12583.0           15        247   29.431964"
            ]
          },
          "metadata": {
            "tags": []
          },
          "execution_count": 42
        }
      ]
    },
    {
      "cell_type": "code",
      "metadata": {
        "colab": {
          "base_uri": "https://localhost:8080/",
          "height": 431
        },
        "id": "p6wRfAXh0n52",
        "outputId": "1bc4c56e-51e3-45ff-9c37-93df64e75771"
      },
      "source": [
        "# Singularize the invoices and sum the quantities\n",
        "df_fr.groupby([\"Invoice\", \"StockCode\"]).agg({\"Quantity\": \"sum\"}).head(100)"
      ],
      "execution_count": 43,
      "outputs": [
        {
          "output_type": "execute_result",
          "data": {
            "text/html": [
              "<div>\n",
              "<style scoped>\n",
              "    .dataframe tbody tr th:only-of-type {\n",
              "        vertical-align: middle;\n",
              "    }\n",
              "\n",
              "    .dataframe tbody tr th {\n",
              "        vertical-align: top;\n",
              "    }\n",
              "\n",
              "    .dataframe thead th {\n",
              "        text-align: right;\n",
              "    }\n",
              "</style>\n",
              "<table border=\"1\" class=\"dataframe\">\n",
              "  <thead>\n",
              "    <tr style=\"text-align: right;\">\n",
              "      <th></th>\n",
              "      <th></th>\n",
              "      <th>Quantity</th>\n",
              "    </tr>\n",
              "    <tr>\n",
              "      <th>Invoice</th>\n",
              "      <th>StockCode</th>\n",
              "      <th></th>\n",
              "    </tr>\n",
              "  </thead>\n",
              "  <tbody>\n",
              "    <tr>\n",
              "      <th rowspan=\"5\" valign=\"top\">536370</th>\n",
              "      <th>10002</th>\n",
              "      <td>48.0</td>\n",
              "    </tr>\n",
              "    <tr>\n",
              "      <th>21035</th>\n",
              "      <td>18.0</td>\n",
              "    </tr>\n",
              "    <tr>\n",
              "      <th>21724</th>\n",
              "      <td>12.0</td>\n",
              "    </tr>\n",
              "    <tr>\n",
              "      <th>21731</th>\n",
              "      <td>24.0</td>\n",
              "    </tr>\n",
              "    <tr>\n",
              "      <th>21791</th>\n",
              "      <td>24.0</td>\n",
              "    </tr>\n",
              "    <tr>\n",
              "      <th>...</th>\n",
              "      <th>...</th>\n",
              "      <td>...</td>\n",
              "    </tr>\n",
              "    <tr>\n",
              "      <th rowspan=\"5\" valign=\"top\">537065</th>\n",
              "      <th>47566</th>\n",
              "      <td>5.0</td>\n",
              "    </tr>\n",
              "    <tr>\n",
              "      <th>84678</th>\n",
              "      <td>6.0</td>\n",
              "    </tr>\n",
              "    <tr>\n",
              "      <th>85227</th>\n",
              "      <td>12.0</td>\n",
              "    </tr>\n",
              "    <tr>\n",
              "      <th>84279P</th>\n",
              "      <td>4.0</td>\n",
              "    </tr>\n",
              "    <tr>\n",
              "      <th>84870B</th>\n",
              "      <td>4.0</td>\n",
              "    </tr>\n",
              "  </tbody>\n",
              "</table>\n",
              "<p>100 rows × 1 columns</p>\n",
              "</div>"
            ],
            "text/plain": [
              "                   Quantity\n",
              "Invoice StockCode          \n",
              "536370  10002          48.0\n",
              "        21035          18.0\n",
              "        21724          12.0\n",
              "        21731          24.0\n",
              "        21791          24.0\n",
              "...                     ...\n",
              "537065  47566           5.0\n",
              "        84678           6.0\n",
              "        85227          12.0\n",
              "        84279P          4.0\n",
              "        84870B          4.0\n",
              "\n",
              "[100 rows x 1 columns]"
            ]
          },
          "metadata": {
            "tags": []
          },
          "execution_count": 43
        }
      ]
    },
    {
      "cell_type": "code",
      "metadata": {
        "colab": {
          "base_uri": "https://localhost:8080/",
          "height": 254
        },
        "id": "shFKimYZ1T9a",
        "outputId": "29589b9f-d383-40a3-d1f9-a6904dc3839f"
      },
      "source": [
        "df_fr.groupby([\"Invoice\", \"StockCode\"]).agg({\"Quantity\": \"sum\"}).unstack().iloc[0:5, 0:5]"
      ],
      "execution_count": 44,
      "outputs": [
        {
          "output_type": "execute_result",
          "data": {
            "text/html": [
              "<div>\n",
              "<style scoped>\n",
              "    .dataframe tbody tr th:only-of-type {\n",
              "        vertical-align: middle;\n",
              "    }\n",
              "\n",
              "    .dataframe tbody tr th {\n",
              "        vertical-align: top;\n",
              "    }\n",
              "\n",
              "    .dataframe thead tr th {\n",
              "        text-align: left;\n",
              "    }\n",
              "\n",
              "    .dataframe thead tr:last-of-type th {\n",
              "        text-align: right;\n",
              "    }\n",
              "</style>\n",
              "<table border=\"1\" class=\"dataframe\">\n",
              "  <thead>\n",
              "    <tr>\n",
              "      <th></th>\n",
              "      <th colspan=\"5\" halign=\"left\">Quantity</th>\n",
              "    </tr>\n",
              "    <tr>\n",
              "      <th>StockCode</th>\n",
              "      <th>10002</th>\n",
              "      <th>10120</th>\n",
              "      <th>10125</th>\n",
              "      <th>10135</th>\n",
              "      <th>11001</th>\n",
              "    </tr>\n",
              "    <tr>\n",
              "      <th>Invoice</th>\n",
              "      <th></th>\n",
              "      <th></th>\n",
              "      <th></th>\n",
              "      <th></th>\n",
              "      <th></th>\n",
              "    </tr>\n",
              "  </thead>\n",
              "  <tbody>\n",
              "    <tr>\n",
              "      <th>536370</th>\n",
              "      <td>48.0</td>\n",
              "      <td>NaN</td>\n",
              "      <td>NaN</td>\n",
              "      <td>NaN</td>\n",
              "      <td>NaN</td>\n",
              "    </tr>\n",
              "    <tr>\n",
              "      <th>536852</th>\n",
              "      <td>NaN</td>\n",
              "      <td>NaN</td>\n",
              "      <td>NaN</td>\n",
              "      <td>NaN</td>\n",
              "      <td>NaN</td>\n",
              "    </tr>\n",
              "    <tr>\n",
              "      <th>536974</th>\n",
              "      <td>NaN</td>\n",
              "      <td>NaN</td>\n",
              "      <td>NaN</td>\n",
              "      <td>NaN</td>\n",
              "      <td>NaN</td>\n",
              "    </tr>\n",
              "    <tr>\n",
              "      <th>537065</th>\n",
              "      <td>NaN</td>\n",
              "      <td>NaN</td>\n",
              "      <td>NaN</td>\n",
              "      <td>NaN</td>\n",
              "      <td>NaN</td>\n",
              "    </tr>\n",
              "    <tr>\n",
              "      <th>537463</th>\n",
              "      <td>NaN</td>\n",
              "      <td>NaN</td>\n",
              "      <td>NaN</td>\n",
              "      <td>NaN</td>\n",
              "      <td>NaN</td>\n",
              "    </tr>\n",
              "  </tbody>\n",
              "</table>\n",
              "</div>"
            ],
            "text/plain": [
              "          Quantity                        \n",
              "StockCode    10002 10120 10125 10135 11001\n",
              "Invoice                                   \n",
              "536370        48.0   NaN   NaN   NaN   NaN\n",
              "536852         NaN   NaN   NaN   NaN   NaN\n",
              "536974         NaN   NaN   NaN   NaN   NaN\n",
              "537065         NaN   NaN   NaN   NaN   NaN\n",
              "537463         NaN   NaN   NaN   NaN   NaN"
            ]
          },
          "metadata": {
            "tags": []
          },
          "execution_count": 44
        }
      ]
    },
    {
      "cell_type": "code",
      "metadata": {
        "colab": {
          "base_uri": "https://localhost:8080/",
          "height": 77
        },
        "id": "QOzeRKd72d2w",
        "outputId": "e41416dd-96f9-4e2c-cbf5-60eab2ba3c20"
      },
      "source": [
        "# observing - validating the logic of unstack\n",
        "df_fr[df_fr[\"StockCode\"] == 10002].sort_values([\"Invoice\", \"Quantity\"], ascending=[True, False])\n",
        "df_fr.groupby([\"Invoice\", \"StockCode\"]).agg({\"Quantity\": \"sum\"}).unstack().iloc[0:15, 0:15]\n",
        "df[(df[\"StockCode\"] == 10002) & (df[\"Invoice\"] == 536370)]  # validation\n",
        "\n",
        "#           Quantity\n",
        "# StockCode    10002 10120 10125 10135 11001\n",
        "# Invoice\n",
        "# 536370        48.0   NaN   NaN   NaN   NaN\n",
        "# 536852         NaN   NaN   NaN   NaN   NaN\n",
        "# 536974         NaN   NaN   NaN   NaN   NaN\n",
        "# 537065         NaN   NaN   NaN   NaN   NaN\n",
        "# 537463         NaN   NaN   NaN   NaN   NaN"
      ],
      "execution_count": 45,
      "outputs": [
        {
          "output_type": "execute_result",
          "data": {
            "text/html": [
              "<div>\n",
              "<style scoped>\n",
              "    .dataframe tbody tr th:only-of-type {\n",
              "        vertical-align: middle;\n",
              "    }\n",
              "\n",
              "    .dataframe tbody tr th {\n",
              "        vertical-align: top;\n",
              "    }\n",
              "\n",
              "    .dataframe thead th {\n",
              "        text-align: right;\n",
              "    }\n",
              "</style>\n",
              "<table border=\"1\" class=\"dataframe\">\n",
              "  <thead>\n",
              "    <tr style=\"text-align: right;\">\n",
              "      <th></th>\n",
              "      <th>Invoice</th>\n",
              "      <th>StockCode</th>\n",
              "      <th>Description</th>\n",
              "      <th>Quantity</th>\n",
              "      <th>InvoiceDate</th>\n",
              "      <th>Price</th>\n",
              "      <th>Customer ID</th>\n",
              "      <th>Country</th>\n",
              "      <th>TotalPrice</th>\n",
              "    </tr>\n",
              "  </thead>\n",
              "  <tbody>\n",
              "    <tr>\n",
              "      <th>31</th>\n",
              "      <td>536370</td>\n",
              "      <td>10002</td>\n",
              "      <td>INFLATABLE POLITICAL GLOBE</td>\n",
              "      <td>48.0</td>\n",
              "      <td>2010-12-01 08:45:00</td>\n",
              "      <td>0.85</td>\n",
              "      <td>12583.0</td>\n",
              "      <td>France</td>\n",
              "      <td>40.8</td>\n",
              "    </tr>\n",
              "  </tbody>\n",
              "</table>\n",
              "</div>"
            ],
            "text/plain": [
              "   Invoice StockCode                  Description  Quantity         InvoiceDate  Price  Customer ID Country  TotalPrice\n",
              "31  536370     10002  INFLATABLE POLITICAL GLOBE       48.0 2010-12-01 08:45:00   0.85      12583.0  France        40.8"
            ]
          },
          "metadata": {
            "tags": []
          },
          "execution_count": 45
        }
      ]
    },
    {
      "cell_type": "code",
      "metadata": {
        "colab": {
          "base_uri": "https://localhost:8080/",
          "height": 254
        },
        "id": "q2Ztu3T12zx2",
        "outputId": "f683f2f4-84c2-45dc-c2cb-14c26076b6a3"
      },
      "source": [
        "# Nan values will be filled with 0 (without inplace= True, permanent changes will be done with function)\n",
        "df_fr.groupby([\"Invoice\", \"StockCode\"]).agg({\"Quantity\": \"sum\"}).unstack().fillna(0).iloc[0:5, 0:5]"
      ],
      "execution_count": 46,
      "outputs": [
        {
          "output_type": "execute_result",
          "data": {
            "text/html": [
              "<div>\n",
              "<style scoped>\n",
              "    .dataframe tbody tr th:only-of-type {\n",
              "        vertical-align: middle;\n",
              "    }\n",
              "\n",
              "    .dataframe tbody tr th {\n",
              "        vertical-align: top;\n",
              "    }\n",
              "\n",
              "    .dataframe thead tr th {\n",
              "        text-align: left;\n",
              "    }\n",
              "\n",
              "    .dataframe thead tr:last-of-type th {\n",
              "        text-align: right;\n",
              "    }\n",
              "</style>\n",
              "<table border=\"1\" class=\"dataframe\">\n",
              "  <thead>\n",
              "    <tr>\n",
              "      <th></th>\n",
              "      <th colspan=\"5\" halign=\"left\">Quantity</th>\n",
              "    </tr>\n",
              "    <tr>\n",
              "      <th>StockCode</th>\n",
              "      <th>10002</th>\n",
              "      <th>10120</th>\n",
              "      <th>10125</th>\n",
              "      <th>10135</th>\n",
              "      <th>11001</th>\n",
              "    </tr>\n",
              "    <tr>\n",
              "      <th>Invoice</th>\n",
              "      <th></th>\n",
              "      <th></th>\n",
              "      <th></th>\n",
              "      <th></th>\n",
              "      <th></th>\n",
              "    </tr>\n",
              "  </thead>\n",
              "  <tbody>\n",
              "    <tr>\n",
              "      <th>536370</th>\n",
              "      <td>48.0</td>\n",
              "      <td>0.0</td>\n",
              "      <td>0.0</td>\n",
              "      <td>0.0</td>\n",
              "      <td>0.0</td>\n",
              "    </tr>\n",
              "    <tr>\n",
              "      <th>536852</th>\n",
              "      <td>0.0</td>\n",
              "      <td>0.0</td>\n",
              "      <td>0.0</td>\n",
              "      <td>0.0</td>\n",
              "      <td>0.0</td>\n",
              "    </tr>\n",
              "    <tr>\n",
              "      <th>536974</th>\n",
              "      <td>0.0</td>\n",
              "      <td>0.0</td>\n",
              "      <td>0.0</td>\n",
              "      <td>0.0</td>\n",
              "      <td>0.0</td>\n",
              "    </tr>\n",
              "    <tr>\n",
              "      <th>537065</th>\n",
              "      <td>0.0</td>\n",
              "      <td>0.0</td>\n",
              "      <td>0.0</td>\n",
              "      <td>0.0</td>\n",
              "      <td>0.0</td>\n",
              "    </tr>\n",
              "    <tr>\n",
              "      <th>537463</th>\n",
              "      <td>0.0</td>\n",
              "      <td>0.0</td>\n",
              "      <td>0.0</td>\n",
              "      <td>0.0</td>\n",
              "      <td>0.0</td>\n",
              "    </tr>\n",
              "  </tbody>\n",
              "</table>\n",
              "</div>"
            ],
            "text/plain": [
              "          Quantity                        \n",
              "StockCode    10002 10120 10125 10135 11001\n",
              "Invoice                                   \n",
              "536370        48.0   0.0   0.0   0.0   0.0\n",
              "536852         0.0   0.0   0.0   0.0   0.0\n",
              "536974         0.0   0.0   0.0   0.0   0.0\n",
              "537065         0.0   0.0   0.0   0.0   0.0\n",
              "537463         0.0   0.0   0.0   0.0   0.0"
            ]
          },
          "metadata": {
            "tags": []
          },
          "execution_count": 46
        }
      ]
    },
    {
      "cell_type": "code",
      "metadata": {
        "colab": {
          "base_uri": "https://localhost:8080/",
          "height": 254
        },
        "id": "Ao7AGCJF2z0P",
        "outputId": "c8140667-4371-421f-b7c0-bc0450ff9805"
      },
      "source": [
        "# non-null values will be filled with 1 and non values => 0\n",
        "df_fr.groupby([\"Invoice\", \"StockCode\"]).agg({\"Quantity\": \"sum\"}).unstack().fillna(0).applymap(lambda x: 1 if x > 0 else 0).iloc[0:5, 0:5]\n",
        "# While \"apply\" method in python works for either column or row whereas applymap method works for all"
      ],
      "execution_count": 47,
      "outputs": [
        {
          "output_type": "execute_result",
          "data": {
            "text/html": [
              "<div>\n",
              "<style scoped>\n",
              "    .dataframe tbody tr th:only-of-type {\n",
              "        vertical-align: middle;\n",
              "    }\n",
              "\n",
              "    .dataframe tbody tr th {\n",
              "        vertical-align: top;\n",
              "    }\n",
              "\n",
              "    .dataframe thead tr th {\n",
              "        text-align: left;\n",
              "    }\n",
              "\n",
              "    .dataframe thead tr:last-of-type th {\n",
              "        text-align: right;\n",
              "    }\n",
              "</style>\n",
              "<table border=\"1\" class=\"dataframe\">\n",
              "  <thead>\n",
              "    <tr>\n",
              "      <th></th>\n",
              "      <th colspan=\"5\" halign=\"left\">Quantity</th>\n",
              "    </tr>\n",
              "    <tr>\n",
              "      <th>StockCode</th>\n",
              "      <th>10002</th>\n",
              "      <th>10120</th>\n",
              "      <th>10125</th>\n",
              "      <th>10135</th>\n",
              "      <th>11001</th>\n",
              "    </tr>\n",
              "    <tr>\n",
              "      <th>Invoice</th>\n",
              "      <th></th>\n",
              "      <th></th>\n",
              "      <th></th>\n",
              "      <th></th>\n",
              "      <th></th>\n",
              "    </tr>\n",
              "  </thead>\n",
              "  <tbody>\n",
              "    <tr>\n",
              "      <th>536370</th>\n",
              "      <td>1</td>\n",
              "      <td>0</td>\n",
              "      <td>0</td>\n",
              "      <td>0</td>\n",
              "      <td>0</td>\n",
              "    </tr>\n",
              "    <tr>\n",
              "      <th>536852</th>\n",
              "      <td>0</td>\n",
              "      <td>0</td>\n",
              "      <td>0</td>\n",
              "      <td>0</td>\n",
              "      <td>0</td>\n",
              "    </tr>\n",
              "    <tr>\n",
              "      <th>536974</th>\n",
              "      <td>0</td>\n",
              "      <td>0</td>\n",
              "      <td>0</td>\n",
              "      <td>0</td>\n",
              "      <td>0</td>\n",
              "    </tr>\n",
              "    <tr>\n",
              "      <th>537065</th>\n",
              "      <td>0</td>\n",
              "      <td>0</td>\n",
              "      <td>0</td>\n",
              "      <td>0</td>\n",
              "      <td>0</td>\n",
              "    </tr>\n",
              "    <tr>\n",
              "      <th>537463</th>\n",
              "      <td>0</td>\n",
              "      <td>0</td>\n",
              "      <td>0</td>\n",
              "      <td>0</td>\n",
              "      <td>0</td>\n",
              "    </tr>\n",
              "  </tbody>\n",
              "</table>\n",
              "</div>"
            ],
            "text/plain": [
              "          Quantity                        \n",
              "StockCode    10002 10120 10125 10135 11001\n",
              "Invoice                                   \n",
              "536370           1     0     0     0     0\n",
              "536852           0     0     0     0     0\n",
              "536974           0     0     0     0     0\n",
              "537065           0     0     0     0     0\n",
              "537463           0     0     0     0     0"
            ]
          },
          "metadata": {
            "tags": []
          },
          "execution_count": 47
        }
      ]
    },
    {
      "cell_type": "markdown",
      "metadata": {
        "id": "THTsUxQs2-9f"
      },
      "source": [
        "*As shown above, I transformed the data into technically expected matrix form, product basket(Invoice product form).\n",
        "I placed each invoice to the index, each stock code to the column and whenever there exists a product on the intersection \n",
        "point of invoice and quantity and consequently I filled with 1 and the rest with 0*"
      ]
    },
    {
      "cell_type": "markdown",
      "metadata": {
        "id": "5eNHYzfL3LDS"
      },
      "source": [
        "So now let's write a function to automate creating invoice product dataframe practices for association rule learning models."
      ]
    },
    {
      "cell_type": "code",
      "metadata": {
        "id": "_1TQbcZy2z2i"
      },
      "source": [
        "def create_invoice_product_df(dataframe):\n",
        "    return dataframe.groupby([\"Invoice\", \"Description\"])[\"Quantity\"].sum().unstack().fillna(0).applymap(lambda x: 1 if x > 0 else 0)"
      ],
      "execution_count": 48,
      "outputs": []
    },
    {
      "cell_type": "code",
      "metadata": {
        "colab": {
          "base_uri": "https://localhost:8080/",
          "height": 225
        },
        "id": "J7tC_1XV2z4u",
        "outputId": "c94b6e67-251a-407b-bf0c-ac5798331afb"
      },
      "source": [
        "fr_inv_pro_df = create_invoice_product_df(df_fr)\n",
        "fr_inv_pro_df.head()\n",
        "fr_inv_pro_df.iloc[0:5, 0:5]\n"
      ],
      "execution_count": 49,
      "outputs": [
        {
          "output_type": "execute_result",
          "data": {
            "text/html": [
              "<div>\n",
              "<style scoped>\n",
              "    .dataframe tbody tr th:only-of-type {\n",
              "        vertical-align: middle;\n",
              "    }\n",
              "\n",
              "    .dataframe tbody tr th {\n",
              "        vertical-align: top;\n",
              "    }\n",
              "\n",
              "    .dataframe thead th {\n",
              "        text-align: right;\n",
              "    }\n",
              "</style>\n",
              "<table border=\"1\" class=\"dataframe\">\n",
              "  <thead>\n",
              "    <tr style=\"text-align: right;\">\n",
              "      <th>Description</th>\n",
              "      <th>50'S CHRISTMAS GIFT BAG LARGE</th>\n",
              "      <th>DOLLY GIRL BEAKER</th>\n",
              "      <th>I LOVE LONDON MINI BACKPACK</th>\n",
              "      <th>NINE DRAWER OFFICE TIDY</th>\n",
              "      <th>SET 2 TEA TOWELS I LOVE LONDON</th>\n",
              "    </tr>\n",
              "    <tr>\n",
              "      <th>Invoice</th>\n",
              "      <th></th>\n",
              "      <th></th>\n",
              "      <th></th>\n",
              "      <th></th>\n",
              "      <th></th>\n",
              "    </tr>\n",
              "  </thead>\n",
              "  <tbody>\n",
              "    <tr>\n",
              "      <th>536370</th>\n",
              "      <td>0</td>\n",
              "      <td>0</td>\n",
              "      <td>0</td>\n",
              "      <td>0</td>\n",
              "      <td>1</td>\n",
              "    </tr>\n",
              "    <tr>\n",
              "      <th>536852</th>\n",
              "      <td>0</td>\n",
              "      <td>0</td>\n",
              "      <td>0</td>\n",
              "      <td>0</td>\n",
              "      <td>0</td>\n",
              "    </tr>\n",
              "    <tr>\n",
              "      <th>536974</th>\n",
              "      <td>0</td>\n",
              "      <td>0</td>\n",
              "      <td>0</td>\n",
              "      <td>0</td>\n",
              "      <td>0</td>\n",
              "    </tr>\n",
              "    <tr>\n",
              "      <th>537065</th>\n",
              "      <td>0</td>\n",
              "      <td>0</td>\n",
              "      <td>0</td>\n",
              "      <td>0</td>\n",
              "      <td>0</td>\n",
              "    </tr>\n",
              "    <tr>\n",
              "      <th>537463</th>\n",
              "      <td>0</td>\n",
              "      <td>0</td>\n",
              "      <td>0</td>\n",
              "      <td>0</td>\n",
              "      <td>0</td>\n",
              "    </tr>\n",
              "  </tbody>\n",
              "</table>\n",
              "</div>"
            ],
            "text/plain": [
              "Description   50'S CHRISTMAS GIFT BAG LARGE   DOLLY GIRL BEAKER   I LOVE LONDON MINI BACKPACK   NINE DRAWER OFFICE TIDY   SET 2 TEA TOWELS I LOVE LONDON \n",
              "Invoice                                                                                                                                                  \n",
              "536370                                    0                   0                             0                         0                                 1\n",
              "536852                                    0                   0                             0                         0                                 0\n",
              "536974                                    0                   0                             0                         0                                 0\n",
              "537065                                    0                   0                             0                         0                                 0\n",
              "537463                                    0                   0                             0                         0                                 0"
            ]
          },
          "metadata": {
            "tags": []
          },
          "execution_count": 49
        }
      ]
    },
    {
      "cell_type": "code",
      "metadata": {
        "colab": {
          "base_uri": "https://localhost:8080/"
        },
        "id": "5zpt6ahs2z7C",
        "outputId": "1816af69-17e3-4575-cef8-8e5414d9747d"
      },
      "source": [
        "# How many unique items are in each invoice?\n",
        "print(fr_inv_pro_df.sum(axis=1).head())"
      ],
      "execution_count": 50,
      "outputs": [
        {
          "output_type": "stream",
          "text": [
            "Invoice\n",
            "536370    20\n",
            "536852     7\n",
            "536974    16\n",
            "537065    63\n",
            "537463    41\n",
            "dtype: int64\n"
          ],
          "name": "stdout"
        }
      ]
    },
    {
      "cell_type": "code",
      "metadata": {
        "colab": {
          "base_uri": "https://localhost:8080/"
        },
        "id": "O5Td5h7I2z9U",
        "outputId": "a73a7628-009c-4088-d46a-653b1491a6dc"
      },
      "source": [
        "# How many unique baskets are there in each product?\n",
        "print(fr_inv_pro_df.sum(axis=0).head())"
      ],
      "execution_count": 51,
      "outputs": [
        {
          "output_type": "stream",
          "text": [
            "Description\n",
            " 50'S CHRISTMAS GIFT BAG LARGE      1\n",
            " DOLLY GIRL BEAKER                  9\n",
            " I LOVE LONDON MINI BACKPACK        5\n",
            " NINE DRAWER OFFICE TIDY            1\n",
            " SET 2 TEA TOWELS I LOVE LONDON     7\n",
            "dtype: int64\n"
          ],
          "name": "stdout"
        }
      ]
    },
    {
      "cell_type": "markdown",
      "metadata": {
        "id": "7mnE3Dls3lAC"
      },
      "source": [
        "# Establishing the Association Rules"
      ]
    },
    {
      "cell_type": "code",
      "metadata": {
        "colab": {
          "base_uri": "https://localhost:8080/",
          "height": 195
        },
        "id": "ARIwVSUN2z_o",
        "outputId": "1338b4c7-e11e-42e6-d768-f969dcd8f7a8"
      },
      "source": [
        "frequent_itemsets = apriori(fr_inv_pro_df, min_support=0.01, use_colnames=True)\n",
        "frequent_itemsets.sort_values(\"support\", ascending=False)\n",
        "\n",
        "rules = association_rules(frequent_itemsets, metric=\"support\", min_threshold=0.01)\n",
        "rules.head()"
      ],
      "execution_count": 52,
      "outputs": [
        {
          "output_type": "execute_result",
          "data": {
            "text/html": [
              "<div>\n",
              "<style scoped>\n",
              "    .dataframe tbody tr th:only-of-type {\n",
              "        vertical-align: middle;\n",
              "    }\n",
              "\n",
              "    .dataframe tbody tr th {\n",
              "        vertical-align: top;\n",
              "    }\n",
              "\n",
              "    .dataframe thead th {\n",
              "        text-align: right;\n",
              "    }\n",
              "</style>\n",
              "<table border=\"1\" class=\"dataframe\">\n",
              "  <thead>\n",
              "    <tr style=\"text-align: right;\">\n",
              "      <th></th>\n",
              "      <th>antecedents</th>\n",
              "      <th>consequents</th>\n",
              "      <th>antecedent support</th>\n",
              "      <th>consequent support</th>\n",
              "      <th>support</th>\n",
              "      <th>confidence</th>\n",
              "      <th>lift</th>\n",
              "      <th>leverage</th>\n",
              "      <th>conviction</th>\n",
              "    </tr>\n",
              "  </thead>\n",
              "  <tbody>\n",
              "    <tr>\n",
              "      <th>0</th>\n",
              "      <td>(CHARLOTTE BAG DOLLY GIRL DESIGN)</td>\n",
              "      <td>( DOLLY GIRL BEAKER)</td>\n",
              "      <td>0.066838</td>\n",
              "      <td>0.023136</td>\n",
              "      <td>0.012853</td>\n",
              "      <td>0.192308</td>\n",
              "      <td>8.311966</td>\n",
              "      <td>0.011307</td>\n",
              "      <td>1.209450</td>\n",
              "    </tr>\n",
              "    <tr>\n",
              "      <th>1</th>\n",
              "      <td>( DOLLY GIRL BEAKER)</td>\n",
              "      <td>(CHARLOTTE BAG DOLLY GIRL DESIGN)</td>\n",
              "      <td>0.023136</td>\n",
              "      <td>0.066838</td>\n",
              "      <td>0.012853</td>\n",
              "      <td>0.555556</td>\n",
              "      <td>8.311966</td>\n",
              "      <td>0.011307</td>\n",
              "      <td>2.099614</td>\n",
              "    </tr>\n",
              "    <tr>\n",
              "      <th>2</th>\n",
              "      <td>(DOLLY GIRL CHILDRENS BOWL)</td>\n",
              "      <td>( DOLLY GIRL BEAKER)</td>\n",
              "      <td>0.046272</td>\n",
              "      <td>0.023136</td>\n",
              "      <td>0.017995</td>\n",
              "      <td>0.388889</td>\n",
              "      <td>16.808642</td>\n",
              "      <td>0.016924</td>\n",
              "      <td>1.598504</td>\n",
              "    </tr>\n",
              "    <tr>\n",
              "      <th>3</th>\n",
              "      <td>( DOLLY GIRL BEAKER)</td>\n",
              "      <td>(DOLLY GIRL CHILDRENS BOWL)</td>\n",
              "      <td>0.023136</td>\n",
              "      <td>0.046272</td>\n",
              "      <td>0.017995</td>\n",
              "      <td>0.777778</td>\n",
              "      <td>16.808642</td>\n",
              "      <td>0.016924</td>\n",
              "      <td>4.291774</td>\n",
              "    </tr>\n",
              "    <tr>\n",
              "      <th>4</th>\n",
              "      <td>(DOLLY GIRL CHILDRENS CUP)</td>\n",
              "      <td>( DOLLY GIRL BEAKER)</td>\n",
              "      <td>0.041131</td>\n",
              "      <td>0.023136</td>\n",
              "      <td>0.015424</td>\n",
              "      <td>0.375000</td>\n",
              "      <td>16.208333</td>\n",
              "      <td>0.014473</td>\n",
              "      <td>1.562982</td>\n",
              "    </tr>\n",
              "  </tbody>\n",
              "</table>\n",
              "</div>"
            ],
            "text/plain": [
              "                         antecedents                        consequents  antecedent support  consequent support   support  confidence       lift  leverage  conviction\n",
              "0  (CHARLOTTE BAG DOLLY GIRL DESIGN)               ( DOLLY GIRL BEAKER)            0.066838            0.023136  0.012853    0.192308   8.311966  0.011307    1.209450\n",
              "1               ( DOLLY GIRL BEAKER)  (CHARLOTTE BAG DOLLY GIRL DESIGN)            0.023136            0.066838  0.012853    0.555556   8.311966  0.011307    2.099614\n",
              "2        (DOLLY GIRL CHILDRENS BOWL)               ( DOLLY GIRL BEAKER)            0.046272            0.023136  0.017995    0.388889  16.808642  0.016924    1.598504\n",
              "3               ( DOLLY GIRL BEAKER)        (DOLLY GIRL CHILDRENS BOWL)            0.023136            0.046272  0.017995    0.777778  16.808642  0.016924    4.291774\n",
              "4         (DOLLY GIRL CHILDRENS CUP)               ( DOLLY GIRL BEAKER)            0.041131            0.023136  0.015424    0.375000  16.208333  0.014473    1.562982"
            ]
          },
          "metadata": {
            "tags": []
          },
          "execution_count": 52
        }
      ]
    },
    {
      "cell_type": "markdown",
      "metadata": {
        "id": "JXWh0JP65G9b"
      },
      "source": [
        "*Antecedents represents the product that observed first.  Antecedent support means the probability of observing this product.*\n",
        "\n",
        "*Support represents the probability of observing antecedents and consequents together.*\n",
        "\n",
        "*Confidence : the probability that (let say) product Y will be sold when product X is sold*\n",
        "\n",
        "*Lift : with the purchase of product X, the probability of purchase of product Y increases by \"lift\" times.*\n",
        "\n",
        "*Conviction: Expected frequency of product X without product Y*"
      ]
    },
    {
      "cell_type": "code",
      "metadata": {
        "colab": {
          "base_uri": "https://localhost:8080/",
          "height": 296
        },
        "id": "-3Z7WMWE20B9",
        "outputId": "255524cb-5936-4dd2-d4ec-686e1c4b1570"
      },
      "source": [
        "rules.sort_values(\"lift\", ascending=False).head()"
      ],
      "execution_count": 53,
      "outputs": [
        {
          "output_type": "execute_result",
          "data": {
            "text/html": [
              "<div>\n",
              "<style scoped>\n",
              "    .dataframe tbody tr th:only-of-type {\n",
              "        vertical-align: middle;\n",
              "    }\n",
              "\n",
              "    .dataframe tbody tr th {\n",
              "        vertical-align: top;\n",
              "    }\n",
              "\n",
              "    .dataframe thead th {\n",
              "        text-align: right;\n",
              "    }\n",
              "</style>\n",
              "<table border=\"1\" class=\"dataframe\">\n",
              "  <thead>\n",
              "    <tr style=\"text-align: right;\">\n",
              "      <th></th>\n",
              "      <th>antecedents</th>\n",
              "      <th>consequents</th>\n",
              "      <th>antecedent support</th>\n",
              "      <th>consequent support</th>\n",
              "      <th>support</th>\n",
              "      <th>confidence</th>\n",
              "      <th>lift</th>\n",
              "      <th>leverage</th>\n",
              "      <th>conviction</th>\n",
              "    </tr>\n",
              "  </thead>\n",
              "  <tbody>\n",
              "    <tr>\n",
              "      <th>1025639</th>\n",
              "      <td>(RED RETROSPOT MINI CASES, CHILDRENS CUTLERY D...</td>\n",
              "      <td>(DOLLY GIRL CHILDRENS CUP, LUNCH BAG APPLE DES...</td>\n",
              "      <td>0.010283</td>\n",
              "      <td>0.010283</td>\n",
              "      <td>0.010283</td>\n",
              "      <td>1.0</td>\n",
              "      <td>97.25</td>\n",
              "      <td>0.010177</td>\n",
              "      <td>inf</td>\n",
              "    </tr>\n",
              "    <tr>\n",
              "      <th>1206591</th>\n",
              "      <td>(JUMBO BAG APPLES, ALARM CLOCK BAKELIKE GREEN,...</td>\n",
              "      <td>(DOLLY GIRL CHILDRENS CUP, LUNCH BOX WITH CUTL...</td>\n",
              "      <td>0.010283</td>\n",
              "      <td>0.010283</td>\n",
              "      <td>0.010283</td>\n",
              "      <td>1.0</td>\n",
              "      <td>97.25</td>\n",
              "      <td>0.010177</td>\n",
              "      <td>inf</td>\n",
              "    </tr>\n",
              "    <tr>\n",
              "      <th>1206677</th>\n",
              "      <td>(RED RETROSPOT MINI CASES, SKULL LUNCH BOX WIT...</td>\n",
              "      <td>(DOLLY GIRL CHILDRENS CUP, ALARM CLOCK BAKELIK...</td>\n",
              "      <td>0.010283</td>\n",
              "      <td>0.010283</td>\n",
              "      <td>0.010283</td>\n",
              "      <td>1.0</td>\n",
              "      <td>97.25</td>\n",
              "      <td>0.010177</td>\n",
              "      <td>inf</td>\n",
              "    </tr>\n",
              "    <tr>\n",
              "      <th>1206678</th>\n",
              "      <td>(ALARM CLOCK BAKELIKE RED , SKULL LUNCH BOX WI...</td>\n",
              "      <td>(DOLLY GIRL CHILDRENS CUP, ALARM CLOCK BAKELIK...</td>\n",
              "      <td>0.010283</td>\n",
              "      <td>0.010283</td>\n",
              "      <td>0.010283</td>\n",
              "      <td>1.0</td>\n",
              "      <td>97.25</td>\n",
              "      <td>0.010177</td>\n",
              "      <td>inf</td>\n",
              "    </tr>\n",
              "    <tr>\n",
              "      <th>1206679</th>\n",
              "      <td>(ALARM CLOCK BAKELIKE RED , RED RETROSPOT MINI...</td>\n",
              "      <td>(DOLLY GIRL CHILDRENS CUP, ALARM CLOCK BAKELIK...</td>\n",
              "      <td>0.010283</td>\n",
              "      <td>0.010283</td>\n",
              "      <td>0.010283</td>\n",
              "      <td>1.0</td>\n",
              "      <td>97.25</td>\n",
              "      <td>0.010177</td>\n",
              "      <td>inf</td>\n",
              "    </tr>\n",
              "  </tbody>\n",
              "</table>\n",
              "</div>"
            ],
            "text/plain": [
              "                                               antecedents                                        consequents  antecedent support  consequent support   support  confidence   lift  leverage  conviction\n",
              "1025639  (RED RETROSPOT MINI CASES, CHILDRENS CUTLERY D...  (DOLLY GIRL CHILDRENS CUP, LUNCH BAG APPLE DES...            0.010283            0.010283  0.010283         1.0  97.25  0.010177         inf\n",
              "1206591  (JUMBO BAG APPLES, ALARM CLOCK BAKELIKE GREEN,...  (DOLLY GIRL CHILDRENS CUP, LUNCH BOX WITH CUTL...            0.010283            0.010283  0.010283         1.0  97.25  0.010177         inf\n",
              "1206677  (RED RETROSPOT MINI CASES, SKULL LUNCH BOX WIT...  (DOLLY GIRL CHILDRENS CUP, ALARM CLOCK BAKELIK...            0.010283            0.010283  0.010283         1.0  97.25  0.010177         inf\n",
              "1206678  (ALARM CLOCK BAKELIKE RED , SKULL LUNCH BOX WI...  (DOLLY GIRL CHILDRENS CUP, ALARM CLOCK BAKELIK...            0.010283            0.010283  0.010283         1.0  97.25  0.010177         inf\n",
              "1206679  (ALARM CLOCK BAKELIKE RED , RED RETROSPOT MINI...  (DOLLY GIRL CHILDRENS CUP, ALARM CLOCK BAKELIK...            0.010283            0.010283  0.010283         1.0  97.25  0.010177         inf"
            ]
          },
          "metadata": {
            "tags": []
          },
          "execution_count": 53
        }
      ]
    },
    {
      "cell_type": "markdown",
      "metadata": {
        "id": "2n4-jr7GBw4C"
      },
      "source": [
        "When association rules are identified by the support values above, and findings are sorted by \"lift\", the most associated products are shown above. According to these findings, remarkable amount of data-driven decisions can be made regarding marketing,designing of e-commerce categories and recommendation systems."
      ]
    }
  ]
}